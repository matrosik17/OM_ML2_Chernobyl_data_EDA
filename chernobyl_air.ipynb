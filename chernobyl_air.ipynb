{
 "cells": [
  {
   "cell_type": "markdown",
   "metadata": {},
   "source": [
    "# ML2_2020_OzonMasters. V1\n",
    "### Матросов Сергей\n",
    "\n",
    "# Распрастранение радиоактивной пыли после аварии на Чернобыльской АЭС"
   ]
  },
  {
   "cell_type": "markdown",
   "metadata": {},
   "source": [
    "Данные: https://www.kaggle.com/lsind18/chernobyl-data-air-concentration"
   ]
  },
  {
   "cell_type": "markdown",
   "metadata": {},
   "source": [
    "## Предварительная обработка данных"
   ]
  },
  {
   "cell_type": "markdown",
   "metadata": {},
   "source": [
    "Подключаем необходимые библиотеки:"
   ]
  },
  {
   "cell_type": "code",
   "execution_count": 1,
   "metadata": {},
   "outputs": [],
   "source": [
    "import numpy as np\n",
    "import pandas as pd\n",
    "import matplotlib.pyplot as plt\n",
    "import folium"
   ]
  },
  {
   "cell_type": "markdown",
   "metadata": {},
   "source": [
    "Загружаем данные:"
   ]
  },
  {
   "cell_type": "code",
   "execution_count": 2,
   "metadata": {},
   "outputs": [],
   "source": [
    "dtypes = {\n",
    "    'Duration(h.min)': str,\n",
    "}\n",
    "\n",
    "data = pd.read_csv('./data/CHERNAIR.csv', dtype=dtypes)"
   ]
  },
  {
   "cell_type": "markdown",
   "metadata": {},
   "source": [
    "Для удобства переименуем некоторые столбцы:"
   ]
  },
  {
   "cell_type": "code",
   "execution_count": 3,
   "metadata": {},
   "outputs": [],
   "source": [
    "data.rename(columns={\n",
    "    'PAYS': 'Country',\n",
    "    'X': 'Lon',\n",
    "    'Y': 'Lat',\n",
    "    'Duration(h.min)': 'Duration',\n",
    "    'I 131 (Bq/m3)': 'I-131',\n",
    "    'Cs 134 (Bq/m3)': 'Cs-134',\n",
    "    'Cs 137 (Bq/m3)': 'Cs-137',\n",
    "}, inplace=True)"
   ]
  },
  {
   "cell_type": "markdown",
   "metadata": {},
   "source": [
    "Для удобства сопоставим сокращенные названия стран полным:"
   ]
  },
  {
   "cell_type": "code",
   "execution_count": 4,
   "metadata": {},
   "outputs": [
    {
     "data": {
      "text/plain": [
       "array(['SE', 'DE', 'F', 'IR', 'IT', 'NL', 'GR', 'UK', 'BE', 'ES', 'CH',\n",
       "       'AU', 'FI', 'NO', 'CZ', 'HU'], dtype=object)"
      ]
     },
     "execution_count": 4,
     "metadata": {},
     "output_type": "execute_result"
    }
   ],
   "source": [
    "data['Country'].unique()"
   ]
  },
  {
   "cell_type": "code",
   "execution_count": 5,
   "metadata": {},
   "outputs": [],
   "source": [
    "country_name_dict = {\n",
    "    'SE': 'Sweden',\n",
    "    'DE': 'Germany',\n",
    "    'F': 'France',\n",
    "    'IR': 'Ireland',\n",
    "    'IT': 'Italy',\n",
    "    'NL': 'Netherlands',\n",
    "    'GR': 'Greece',\n",
    "    'UK': 'United Kingdom',\n",
    "    'BE': 'Belgium',\n",
    "    'ES': 'Spain',\n",
    "    'CH': 'Switzerland',\n",
    "    'AU': 'Australia',\n",
    "    'FI': 'Finland',\n",
    "    'NO': 'Norway',\n",
    "    'CZ': 'Czech Republic',\n",
    "    'HU': 'Hungary',\n",
    "}"
   ]
  },
  {
   "cell_type": "markdown",
   "metadata": {},
   "source": [
    "Колонку `Code` можно удалить, т.к. эти коды не соответствуют стандарту [**ISO-3166**](https://en.wikipedia.org/wiki/ISO_3166) и не несут дополнительной информации:"
   ]
  },
  {
   "cell_type": "code",
   "execution_count": 6,
   "metadata": {},
   "outputs": [
    {
     "data": {
      "text/plain": [
       "array([ 1,  2,  3,  4,  5,  7,  8,  9, 10, 11, 13, 14, 20, 21, 22, 23, 24],\n",
       "      dtype=int64)"
      ]
     },
     "execution_count": 6,
     "metadata": {},
     "output_type": "execute_result"
    }
   ],
   "source": [
    "data['Code'].unique()"
   ]
  },
  {
   "cell_type": "code",
   "execution_count": 7,
   "metadata": {},
   "outputs": [],
   "source": [
    "data.drop(columns=['Code'], inplace=True)"
   ]
  },
  {
   "cell_type": "markdown",
   "metadata": {},
   "source": [
    "Обьединим даты и время завершения измерений в одну колонку:"
   ]
  },
  {
   "cell_type": "code",
   "execution_count": 8,
   "metadata": {},
   "outputs": [],
   "source": [
    "data['Date'] = pd.to_datetime(\n",
    "    '19' + data['Date'] + '-' + data['End of sampling'].replace({'24:00:00': '23:59:59'})\n",
    ")\n",
    "data.drop(columns=['End of sampling'], inplace=True)"
   ]
  },
  {
   "cell_type": "markdown",
   "metadata": {},
   "source": [
    "Приведем колонку `Duration` к типу Timedelta:"
   ]
  },
  {
   "cell_type": "code",
   "execution_count": 9,
   "metadata": {},
   "outputs": [],
   "source": [
    "def to_timedelta_str(dur_str):\n",
    "    dur_split = dur_str.split('.')\n",
    "    hours = int(dur_split[0])\n",
    "    minutes = 0 if len(dur_split) == 1 else int(dur_split[1])\n",
    "    return f'{hours:02d}:{minutes:02d}:00'\n",
    "\n",
    "data['Duration'] = data['Duration'] \\\n",
    "    .apply(to_timedelta_str) \\\n",
    "    .apply(pd.to_timedelta)"
   ]
  },
  {
   "cell_type": "markdown",
   "metadata": {},
   "source": [
    "Приведем концентрации радионуклидов к типу `float`:"
   ]
  },
  {
   "cell_type": "code",
   "execution_count": 10,
   "metadata": {},
   "outputs": [],
   "source": [
    "data['I-131'] = pd.to_numeric(data['I-131'], errors='coerce')\n",
    "data['Cs-134'] = pd.to_numeric(data['Cs-134'], errors='coerce')\n",
    "data['Cs-137'] = pd.to_numeric(data['Cs-137'], errors='coerce')"
   ]
  },
  {
   "cell_type": "code",
   "execution_count": 11,
   "metadata": {},
   "outputs": [
    {
     "data": {
      "text/html": [
       "<div>\n",
       "<style scoped>\n",
       "    .dataframe tbody tr th:only-of-type {\n",
       "        vertical-align: middle;\n",
       "    }\n",
       "\n",
       "    .dataframe tbody tr th {\n",
       "        vertical-align: top;\n",
       "    }\n",
       "\n",
       "    .dataframe thead th {\n",
       "        text-align: right;\n",
       "    }\n",
       "</style>\n",
       "<table border=\"1\" class=\"dataframe\">\n",
       "  <thead>\n",
       "    <tr style=\"text-align: right;\">\n",
       "      <th></th>\n",
       "      <th>Country</th>\n",
       "      <th>Ville</th>\n",
       "      <th>Lon</th>\n",
       "      <th>Lat</th>\n",
       "      <th>Date</th>\n",
       "      <th>Duration</th>\n",
       "      <th>I-131</th>\n",
       "      <th>Cs-134</th>\n",
       "      <th>Cs-137</th>\n",
       "    </tr>\n",
       "  </thead>\n",
       "  <tbody>\n",
       "    <tr>\n",
       "      <th>0</th>\n",
       "      <td>SE</td>\n",
       "      <td>RISOE</td>\n",
       "      <td>12.07</td>\n",
       "      <td>55.7</td>\n",
       "      <td>1986-04-27 23:59:59</td>\n",
       "      <td>1 days 00:00:00</td>\n",
       "      <td>1.00000</td>\n",
       "      <td>0.00000</td>\n",
       "      <td>0.24000</td>\n",
       "    </tr>\n",
       "    <tr>\n",
       "      <th>1</th>\n",
       "      <td>SE</td>\n",
       "      <td>RISOE</td>\n",
       "      <td>12.07</td>\n",
       "      <td>55.7</td>\n",
       "      <td>1986-04-28 23:59:59</td>\n",
       "      <td>1 days 00:00:00</td>\n",
       "      <td>0.00460</td>\n",
       "      <td>0.00054</td>\n",
       "      <td>0.00098</td>\n",
       "    </tr>\n",
       "    <tr>\n",
       "      <th>2</th>\n",
       "      <td>SE</td>\n",
       "      <td>RISOE</td>\n",
       "      <td>12.07</td>\n",
       "      <td>55.7</td>\n",
       "      <td>1986-04-29 12:00:00</td>\n",
       "      <td>0 days 12:00:00</td>\n",
       "      <td>0.01470</td>\n",
       "      <td>0.00430</td>\n",
       "      <td>0.00740</td>\n",
       "    </tr>\n",
       "    <tr>\n",
       "      <th>3</th>\n",
       "      <td>SE</td>\n",
       "      <td>RISOE</td>\n",
       "      <td>12.07</td>\n",
       "      <td>55.7</td>\n",
       "      <td>1986-04-29 23:59:59</td>\n",
       "      <td>0 days 12:00:00</td>\n",
       "      <td>0.00061</td>\n",
       "      <td>0.00000</td>\n",
       "      <td>0.00009</td>\n",
       "    </tr>\n",
       "    <tr>\n",
       "      <th>4</th>\n",
       "      <td>SE</td>\n",
       "      <td>RISOE</td>\n",
       "      <td>12.07</td>\n",
       "      <td>55.7</td>\n",
       "      <td>1986-04-30 23:59:59</td>\n",
       "      <td>1 days 00:00:00</td>\n",
       "      <td>0.00075</td>\n",
       "      <td>0.00010</td>\n",
       "      <td>0.00028</td>\n",
       "    </tr>\n",
       "  </tbody>\n",
       "</table>\n",
       "</div>"
      ],
      "text/plain": [
       "  Country  Ville    Lon   Lat                Date        Duration    I-131  \\\n",
       "0      SE  RISOE  12.07  55.7 1986-04-27 23:59:59 1 days 00:00:00  1.00000   \n",
       "1      SE  RISOE  12.07  55.7 1986-04-28 23:59:59 1 days 00:00:00  0.00460   \n",
       "2      SE  RISOE  12.07  55.7 1986-04-29 12:00:00 0 days 12:00:00  0.01470   \n",
       "3      SE  RISOE  12.07  55.7 1986-04-29 23:59:59 0 days 12:00:00  0.00061   \n",
       "4      SE  RISOE  12.07  55.7 1986-04-30 23:59:59 1 days 00:00:00  0.00075   \n",
       "\n",
       "    Cs-134   Cs-137  \n",
       "0  0.00000  0.24000  \n",
       "1  0.00054  0.00098  \n",
       "2  0.00430  0.00740  \n",
       "3  0.00000  0.00009  \n",
       "4  0.00010  0.00028  "
      ]
     },
     "execution_count": 11,
     "metadata": {},
     "output_type": "execute_result"
    }
   ],
   "source": [
    "data.head()"
   ]
  },
  {
   "cell_type": "markdown",
   "metadata": {},
   "source": [
    "## Предварительный обзор данных"
   ]
  },
  {
   "cell_type": "markdown",
   "metadata": {},
   "source": [
    "Общая информация:"
   ]
  },
  {
   "cell_type": "code",
   "execution_count": 12,
   "metadata": {},
   "outputs": [
    {
     "name": "stdout",
     "output_type": "stream",
     "text": [
      "<class 'pandas.core.frame.DataFrame'>\n",
      "RangeIndex: 2051 entries, 0 to 2050\n",
      "Data columns (total 9 columns):\n",
      " #   Column    Non-Null Count  Dtype          \n",
      "---  ------    --------------  -----          \n",
      " 0   Country   2051 non-null   object         \n",
      " 1   Ville     2051 non-null   object         \n",
      " 2   Lon       2051 non-null   float64        \n",
      " 3   Lat       2051 non-null   float64        \n",
      " 4   Date      2051 non-null   datetime64[ns] \n",
      " 5   Duration  2051 non-null   timedelta64[ns]\n",
      " 6   I-131     2009 non-null   float64        \n",
      " 7   Cs-134    1801 non-null   float64        \n",
      " 8   Cs-137    1506 non-null   float64        \n",
      "dtypes: datetime64[ns](1), float64(5), object(2), timedelta64[ns](1)\n",
      "memory usage: 144.3+ KB\n"
     ]
    }
   ],
   "source": [
    "data.info()"
   ]
  },
  {
   "cell_type": "markdown",
   "metadata": {},
   "source": [
    "Проверим данные на наличие пропусков:"
   ]
  },
  {
   "cell_type": "code",
   "execution_count": 13,
   "metadata": {},
   "outputs": [
    {
     "data": {
      "text/plain": [
       "Country       0\n",
       "Ville         0\n",
       "Lon           0\n",
       "Lat           0\n",
       "Date          0\n",
       "Duration      0\n",
       "I-131        42\n",
       "Cs-134      250\n",
       "Cs-137      545\n",
       "dtype: int64"
      ]
     },
     "execution_count": 13,
     "metadata": {},
     "output_type": "execute_result"
    }
   ],
   "source": [
    "data.isna().sum()"
   ]
  },
  {
   "cell_type": "markdown",
   "metadata": {},
   "source": [
    "Пропущены только данные с измерениями. <br>\n",
    "Можно предположить, что в соответствующем центре мониторинга не было возможности определить концентрацию соответствующих изотопов. <br>\n",
    "Эту гипотезу мы проверим ниже"
   ]
  },
  {
   "cell_type": "markdown",
   "metadata": {},
   "source": [
    "Количество измерений в разных странах:"
   ]
  },
  {
   "cell_type": "markdown",
   "metadata": {},
   "source": [
    "## Распределение наблюдений по странам"
   ]
  },
  {
   "cell_type": "code",
   "execution_count": 14,
   "metadata": {},
   "outputs": [
    {
     "data": {
      "text/plain": [
       "Italy             303\n",
       "France            260\n",
       "Germany           246\n",
       "Australia         223\n",
       "Sweden            211\n",
       "Czech Republic    134\n",
       "Netherlands       121\n",
       "United Kingdom    119\n",
       "Finland           107\n",
       "Norway             73\n",
       "Belgium            72\n",
       "Greece             60\n",
       "Spain              44\n",
       "Switzerland        42\n",
       "Ireland            23\n",
       "Hungary            13\n",
       "Name: Country, dtype: int64"
      ]
     },
     "execution_count": 14,
     "metadata": {},
     "output_type": "execute_result"
    }
   ],
   "source": [
    "country_records = data['Country'].value_counts()\n",
    "country_records.rename(country_name_dict)"
   ]
  },
  {
   "cell_type": "markdown",
   "metadata": {},
   "source": [
    "Построи соответствующую гистограмму:"
   ]
  },
  {
   "cell_type": "code",
   "execution_count": 15,
   "metadata": {},
   "outputs": [
    {
     "data": {
      "image/png": "[encoded data removed]",
      "text/plain": [
       "<Figure size 720x576 with 1 Axes>"
      ]
     },
     "metadata": {
      "needs_background": "light"
     },
     "output_type": "display_data"
    }
   ],
   "source": [
    "fig, ax = plt.subplots(figsize=(10,8))\n",
    "\n",
    "countries = country_records.index\n",
    "records = country_records.values\n",
    "\n",
    "ax.bar(countries, records)\n",
    "ax.grid(axis='y')"
   ]
  },
  {
   "cell_type": "markdown",
   "metadata": {},
   "source": [
    "Посмотрим на число станций мониторинга в каждой из стран:"
   ]
  },
  {
   "cell_type": "code",
   "execution_count": 16,
   "metadata": {},
   "outputs": [
    {
     "data": {
      "text/html": [
       "<div>\n",
       "<style scoped>\n",
       "    .dataframe tbody tr th:only-of-type {\n",
       "        vertical-align: middle;\n",
       "    }\n",
       "\n",
       "    .dataframe tbody tr th {\n",
       "        vertical-align: top;\n",
       "    }\n",
       "\n",
       "    .dataframe thead th {\n",
       "        text-align: right;\n",
       "    }\n",
       "</style>\n",
       "<table border=\"1\" class=\"dataframe\">\n",
       "  <thead>\n",
       "    <tr style=\"text-align: right;\">\n",
       "      <th></th>\n",
       "      <th>count</th>\n",
       "      <th>unique</th>\n",
       "      <th>top</th>\n",
       "      <th>freq</th>\n",
       "    </tr>\n",
       "  </thead>\n",
       "  <tbody>\n",
       "    <tr>\n",
       "      <th>IT</th>\n",
       "      <td>303</td>\n",
       "      <td>8</td>\n",
       "      <td>ISPRA</td>\n",
       "      <td>101</td>\n",
       "    </tr>\n",
       "    <tr>\n",
       "      <th>F</th>\n",
       "      <td>260</td>\n",
       "      <td>20</td>\n",
       "      <td>ST.Laurent des eaux</td>\n",
       "      <td>20</td>\n",
       "    </tr>\n",
       "    <tr>\n",
       "      <th>DE</th>\n",
       "      <td>246</td>\n",
       "      <td>17</td>\n",
       "      <td>GOETTINGEN</td>\n",
       "      <td>28</td>\n",
       "    </tr>\n",
       "    <tr>\n",
       "      <th>AU</th>\n",
       "      <td>223</td>\n",
       "      <td>7</td>\n",
       "      <td>VIENNA.</td>\n",
       "      <td>56</td>\n",
       "    </tr>\n",
       "    <tr>\n",
       "      <th>SE</th>\n",
       "      <td>211</td>\n",
       "      <td>6</td>\n",
       "      <td>STOCKHOLM</td>\n",
       "      <td>58</td>\n",
       "    </tr>\n",
       "    <tr>\n",
       "      <th>CZ</th>\n",
       "      <td>134</td>\n",
       "      <td>9</td>\n",
       "      <td>PRAHA</td>\n",
       "      <td>39</td>\n",
       "    </tr>\n",
       "    <tr>\n",
       "      <th>NL</th>\n",
       "      <td>121</td>\n",
       "      <td>6</td>\n",
       "      <td>BILTHOVEN</td>\n",
       "      <td>36</td>\n",
       "    </tr>\n",
       "    <tr>\n",
       "      <th>UK</th>\n",
       "      <td>119</td>\n",
       "      <td>4</td>\n",
       "      <td>HARWELL</td>\n",
       "      <td>52</td>\n",
       "    </tr>\n",
       "    <tr>\n",
       "      <th>FI</th>\n",
       "      <td>107</td>\n",
       "      <td>2</td>\n",
       "      <td>KONALA(Helsinki)NW</td>\n",
       "      <td>79</td>\n",
       "    </tr>\n",
       "    <tr>\n",
       "      <th>NO</th>\n",
       "      <td>73</td>\n",
       "      <td>4</td>\n",
       "      <td>OSLO</td>\n",
       "      <td>45</td>\n",
       "    </tr>\n",
       "    <tr>\n",
       "      <th>BE</th>\n",
       "      <td>72</td>\n",
       "      <td>2</td>\n",
       "      <td>BRUXELLES(Ixelles)</td>\n",
       "      <td>37</td>\n",
       "    </tr>\n",
       "    <tr>\n",
       "      <th>GR</th>\n",
       "      <td>60</td>\n",
       "      <td>3</td>\n",
       "      <td>ATTIKIS</td>\n",
       "      <td>27</td>\n",
       "    </tr>\n",
       "    <tr>\n",
       "      <th>ES</th>\n",
       "      <td>44</td>\n",
       "      <td>2</td>\n",
       "      <td>VALENCIA</td>\n",
       "      <td>26</td>\n",
       "    </tr>\n",
       "    <tr>\n",
       "      <th>CH</th>\n",
       "      <td>42</td>\n",
       "      <td>3</td>\n",
       "      <td>SPIEZ</td>\n",
       "      <td>20</td>\n",
       "    </tr>\n",
       "    <tr>\n",
       "      <th>IR</th>\n",
       "      <td>23</td>\n",
       "      <td>1</td>\n",
       "      <td>GLASNEVIN.Dublin</td>\n",
       "      <td>23</td>\n",
       "    </tr>\n",
       "    <tr>\n",
       "      <th>HU</th>\n",
       "      <td>13</td>\n",
       "      <td>1</td>\n",
       "      <td>BUDAPEST</td>\n",
       "      <td>13</td>\n",
       "    </tr>\n",
       "  </tbody>\n",
       "</table>\n",
       "</div>"
      ],
      "text/plain": [
       "   count unique                  top freq\n",
       "IT   303      8                ISPRA  101\n",
       "F    260     20  ST.Laurent des eaux   20\n",
       "DE   246     17           GOETTINGEN   28\n",
       "AU   223      7              VIENNA.   56\n",
       "SE   211      6            STOCKHOLM   58\n",
       "CZ   134      9                PRAHA   39\n",
       "NL   121      6            BILTHOVEN   36\n",
       "UK   119      4              HARWELL   52\n",
       "FI   107      2   KONALA(Helsinki)NW   79\n",
       "NO    73      4                 OSLO   45\n",
       "BE    72      2   BRUXELLES(Ixelles)   37\n",
       "GR    60      3              ATTIKIS   27\n",
       "ES    44      2             VALENCIA   26\n",
       "CH    42      3                SPIEZ   20\n",
       "IR    23      1     GLASNEVIN.Dublin   23\n",
       "HU    13      1             BUDAPEST   13"
      ]
     },
     "execution_count": 16,
     "metadata": {},
     "output_type": "execute_result"
    }
   ],
   "source": [
    "data.groupby('Country')['Ville'].describe().reindex(countries)"
   ]
  },
  {
   "cell_type": "markdown",
   "metadata": {},
   "source": [
    "Выведем списки станций мониторинга:"
   ]
  },
  {
   "cell_type": "code",
   "execution_count": 17,
   "metadata": {},
   "outputs": [
    {
     "name": "stdout",
     "output_type": "stream",
     "text": [
      "Italy:\n",
      "['BOLOGNA' 'BRASIMONE' 'CAPANNA' 'CASACCIA' 'ISPRA' 'SALUGGIA(eurex)'\n",
      " 'SALUGGIA(IFEC)' 'TRISAIA']\n",
      "France:\n",
      "['CADARACHE' 'CHINON' 'CHOOZ' 'CRUAS' 'DAMPIERRE EN BURLY' 'FESSENHEIM'\n",
      " 'FLAMANVILLE' 'GRAVELINES' 'GRENOBLE' 'LE BUGEY' 'LE VESINET' 'MARCOULE'\n",
      " 'MONACO' 'ORSAY' 'PARIS' 'SACLAY' 'SAINT ALBAN' 'ST.Laurent des eaux'\n",
      " 'TRICASTIN' 'VERDUN']\n",
      "Germany:\n",
      "['AACHEN(DWD)' 'AACHEN(RWTH)' 'ANSBACH' 'BERLIN-WEST' 'BROTJACKLRIEGEL'\n",
      " 'FREIBURG(BZS)' 'FREIBURG(DWD)' 'GOETTINGEN' 'HANNOVER' 'KARLSRUHE'\n",
      " 'MEINERZHAGEN' 'NEUHERBERG' 'NORDERNEY' 'OFFENBACH' 'ROTTENBURG'\n",
      " 'STARNBERG' 'WALDHOF']\n",
      "Australia:\n",
      "['BREGENZ' 'GRAZ' 'INNSBRUCK' 'KLAGENFURT' 'LINZ' 'SALZBURG' 'VIENNA.']\n",
      "Sweden:\n",
      "['RISOE' 'GOETEBORG' 'LJUNGBYHED' 'OESTERSUND' 'STOCKHOLM' 'UMEAA']\n",
      "Czech Republic:\n",
      "['BANSKA' 'BRATISLAVA' 'CESKE' 'HRADEC' 'JASLOVSKE' 'KOSICE' 'MORAVSKY'\n",
      " 'PRAHA' 'USTI']\n",
      "Netherlands:\n",
      "['BILTHOVEN' 'DELFT' 'EELDE' 'GRONINGEN' 'PETTEN' 'VLISSINGEN']\n",
      "United Kingdom:\n",
      "['BERKELEY' 'CHAPELCROSS' 'GLASGOW' 'HARWELL']\n",
      "Finland:\n",
      "['KONALA(Helsinki)NW' 'NURMIJAERVI']\n",
      "Norway:\n",
      "['BERGEN' 'KJELLER' 'OSLO' 'VAERNES']\n",
      "Belgium:\n",
      "['BRUXELLES(Ixelles)' 'MOL']\n",
      "Greece:\n",
      "['ATTIKIS' 'KOZANIS' 'THESSALONIKI']\n",
      "Spain:\n",
      "['TARRAGONA' 'VALENCIA']\n",
      "Switzerland:\n",
      "['FRIBOURG' 'LOCARNO Monti' 'SPIEZ']\n",
      "Ireland:\n",
      "['GLASNEVIN.Dublin']\n",
      "Hungary:\n",
      "['BUDAPEST']\n"
     ]
    }
   ],
   "source": [
    "villes = data.groupby('Country')['Ville'] \\\n",
    "    .unique() \\\n",
    "    .reindex(countries) \\\n",
    "    .rename(country_name_dict)\n",
    "\n",
    "for country, villes in villes.items():\n",
    "    print(f'{country}:\\n{villes}')"
   ]
  },
  {
   "cell_type": "markdown",
   "metadata": {},
   "source": [
    "Посмотрим на число наблюдений различных станций:"
   ]
  },
  {
   "cell_type": "code",
   "execution_count": 18,
   "metadata": {},
   "outputs": [
    {
     "data": {
      "text/plain": [
       "Country  Ville           \n",
       "IT       ISPRA               101\n",
       "         CAPANNA              59\n",
       "         CASACCIA             38\n",
       "         TRISAIA              31\n",
       "         BRASIMONE            20\n",
       "                            ... \n",
       "CH       SPIEZ                20\n",
       "         FRIBOURG             14\n",
       "         LOCARNO Monti         8\n",
       "IR       GLASNEVIN.Dublin     23\n",
       "HU       BUDAPEST             13\n",
       "Name: Ville, Length: 95, dtype: int64"
      ]
     },
     "execution_count": 18,
     "metadata": {},
     "output_type": "execute_result"
    }
   ],
   "source": [
    "data.groupby('Country')['Ville'].value_counts().reindex(countries, level=0)"
   ]
  },
  {
   "cell_type": "markdown",
   "metadata": {},
   "source": [
    "### Станции мониторинга на карте:"
   ]
  },
  {
   "cell_type": "code",
   "execution_count": 19,
   "metadata": {},
   "outputs": [
    {
     "data": {
      "text/plain": [
       "<folium.map.Marker at 0x255ceea55e0>"
      ]
     },
     "execution_count": 19,
     "metadata": {},
     "output_type": "execute_result"
    }
   ],
   "source": [
    "stations_map = folium.Map(\n",
    "    location=[49.873087, 12.812349],\n",
    "    width=1200,\n",
    "    height=600,\n",
    "    zoom_start=3.5,\n",
    ")\n",
    "\n",
    "folium.Marker([51.389548, 30.096219],\n",
    "              popup='Chernobyl Nuclear Power Plant',\n",
    "              icon=folium.Icon(color='red', icon='info-sign')\n",
    "             ).add_to(stations_map)"
   ]
  },
  {
   "cell_type": "code",
   "execution_count": 20,
   "metadata": {},
   "outputs": [],
   "source": [
    "station_coords = data.groupby(['Country', 'Ville'])[['Lat', 'Lon']].mean()"
   ]
  },
  {
   "cell_type": "markdown",
   "metadata": {},
   "source": [
    "Удалим некорректную запись:"
   ]
  },
  {
   "cell_type": "code",
   "execution_count": 21,
   "metadata": {},
   "outputs": [],
   "source": [
    "station_coords.drop(index=[\n",
    "    ('NO','VAERNES'),\n",
    "    ('ES', 'VALENCIA'),\n",
    "    ('CZ', 'KOSICE'),\n",
    "], inplace=True)"
   ]
  },
  {
   "cell_type": "markdown",
   "metadata": {},
   "source": [
    "Для Чехии перепутаны координаты:"
   ]
  },
  {
   "cell_type": "code",
   "execution_count": 22,
   "metadata": {},
   "outputs": [],
   "source": [
    "station_coords.loc['CZ', :]\n",
    "cz_lon_tmp = station_coords.loc['CZ', :]['Lat'].copy()\n",
    "station_coords.loc['CZ', :]['Lat'] = station_coords.loc['CZ', :]['Lon']\n",
    "station_coords.loc['CZ', :]['Lon'] = cz_lon_tmp"
   ]
  },
  {
   "cell_type": "code",
   "execution_count": 23,
   "metadata": {},
   "outputs": [
    {
     "data": {
      "text/plain": [
       "Lat    48.73\n",
       "Lon    19.17\n",
       "Name: (CZ, BANSKA), dtype: float64"
      ]
     },
     "execution_count": 23,
     "metadata": {},
     "output_type": "execute_result"
    }
   ],
   "source": [
    "station_coords.loc[('CZ','BANSKA')]"
   ]
  },
  {
   "cell_type": "code",
   "execution_count": 24,
   "metadata": {},
   "outputs": [],
   "source": [
    "for index, values in station_coords.iterrows():\n",
    "    lat = values['Lat']\n",
    "    lon = values['Lon']\n",
    "    \n",
    "    folium.Circle((lat, lon),\n",
    "                   radius=5,\n",
    "                   color='blue',\n",
    "                   popup=f'{index[0]}: {index[1]}'\n",
    "                 ).add_to(stations_map)"
   ]
  },
  {
   "cell_type": "code",
   "execution_count": 25,
   "metadata": {},
   "outputs": [
    {
     "data": {
      "text/html": [
       "<div style=\"width:100%;\"><div style=\"position:relative;width:100%;height:0;padding-bottom:60%;\"><iframe src=\"about:blank\" style=\"position:absolute;width:100%;height:100%;left:0;top:0;border:none !important;\" data-html=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 onload=\"this.contentDocument.open();this.contentDocument.write(atob(this.getAttribute('data-html')));this.contentDocument.close();\" allowfullscreen webkitallowfullscreen mozallowfullscreen></iframe></div></div>"
      ],
      "text/plain": [
       "<folium.folium.Map at 0x255cee8cbb0>"
      ]
     },
     "execution_count": 25,
     "metadata": {},
     "output_type": "execute_result"
    }
   ],
   "source": [
    "stations_map"
   ]
  },
  {
   "cell_type": "markdown",
   "metadata": {},
   "source": [
    "## Период наблюдений"
   ]
  },
  {
   "cell_type": "code",
   "execution_count": 26,
   "metadata": {},
   "outputs": [
    {
     "data": {
      "text/plain": [
       "count           2051\n",
       "unique            37\n",
       "top       1986-05-02\n",
       "freq             190\n",
       "Name: Date, dtype: object"
      ]
     },
     "execution_count": 26,
     "metadata": {},
     "output_type": "execute_result"
    }
   ],
   "source": [
    "data['Date'].dt.date.describe()"
   ]
  },
  {
   "cell_type": "code",
   "execution_count": 27,
   "metadata": {},
   "outputs": [
    {
     "data": {
      "text/plain": [
       "min    1986-04-27\n",
       "max    1986-08-04\n",
       "Name: Date, dtype: object"
      ]
     },
     "execution_count": 27,
     "metadata": {},
     "output_type": "execute_result"
    }
   ],
   "source": [
    "data['Date'].dt.date.aggregate(['min', 'max'])"
   ]
  },
  {
   "cell_type": "markdown",
   "metadata": {},
   "source": [
    "Найдем частоту измерений каждый день в период наблюдений:"
   ]
  },
  {
   "cell_type": "code",
   "execution_count": 28,
   "metadata": {},
   "outputs": [
    {
     "data": {
      "text/plain": [
       "1986-04-27      1\n",
       "1986-04-28     24\n",
       "1986-04-29     45\n",
       "1986-04-30     97\n",
       "1986-05-01    115\n",
       "1986-05-02    190\n",
       "1986-05-03    173\n",
       "1986-05-04    150\n",
       "1986-05-05    142\n",
       "1986-05-06    135\n",
       "1986-05-07    133\n",
       "1986-05-08    100\n",
       "1986-05-09     98\n",
       "1986-05-10     83\n",
       "1986-05-11     76\n",
       "1986-05-12     71\n",
       "1986-05-13     58\n",
       "1986-05-14     57\n",
       "1986-05-15     48\n",
       "1986-05-16     38\n",
       "1986-05-17     24\n",
       "1986-05-18     24\n",
       "1986-05-19     30\n",
       "1986-05-20     19\n",
       "1986-05-21     19\n",
       "1986-05-22     13\n",
       "1986-05-23     18\n",
       "1986-05-24      5\n",
       "1986-05-25      9\n",
       "1986-05-26     19\n",
       "1986-05-27      4\n",
       "1986-05-28      9\n",
       "1986-05-29      6\n",
       "1986-05-30     12\n",
       "1986-05-31      4\n",
       "1986-06-05      1\n",
       "1986-08-04      1\n",
       "Name: Date, dtype: int64"
      ]
     },
     "execution_count": 28,
     "metadata": {},
     "output_type": "execute_result"
    }
   ],
   "source": [
    "data['Date'].dt.date.value_counts().sort_index()"
   ]
  },
  {
   "cell_type": "markdown",
   "metadata": {},
   "source": [
    "Предсказуемо, число наблюдений начинает стремительно расти через пару дней после аварии и в течение месяца сходит на нет.<br>\n",
    "Пару наблюдений за июнь и август отбросим\n",
    "\n",
    "Отобразим эти данные как гистограмму:"
   ]
  },
  {
   "cell_type": "code",
   "execution_count": 29,
   "metadata": {},
   "outputs": [
    {
     "data": {
      "image/png": "[encoded data removed]",
      "text/plain": [
       "<Figure size 1800x576 with 1 Axes>"
      ]
     },
     "metadata": {
      "needs_background": "light"
     },
     "output_type": "display_data"
    }
   ],
   "source": [
    "fig, ax = plt.subplots(figsize=(25,8))\n",
    "\n",
    "dates = data['Date'].dt.date.sort_values().iloc[:-2]\n",
    "num_days = (dates.max() - dates.min()).days\n",
    "\n",
    "dates.hist(\n",
    "    bins=num_days,\n",
    "    ax=ax,\n",
    "    rwidth=0.9,\n",
    ")\n",
    "ax.grid(axis='x')\n",
    "ax.set_title('Распределение измерений по датам')\n",
    "ax.tick_params(axis='x', rotation=60)"
   ]
  },
  {
   "cell_type": "markdown",
   "metadata": {},
   "source": [
    "## Распределение длительности наблюдений"
   ]
  },
  {
   "cell_type": "code",
   "execution_count": 30,
   "metadata": {},
   "outputs": [
    {
     "data": {
      "text/plain": [
       "count                      2051\n",
       "mean     0 days 20:48:57.952218\n",
       "std      1 days 17:20:51.661710\n",
       "min             0 days 00:02:00\n",
       "25%             0 days 06:00:00\n",
       "50%             1 days 00:00:00\n",
       "75%             1 days 00:00:00\n",
       "max            29 days 04:00:00\n",
       "Name: Duration, dtype: object"
      ]
     },
     "execution_count": 30,
     "metadata": {},
     "output_type": "execute_result"
    }
   ],
   "source": [
    "data['Duration'].describe()"
   ]
  },
  {
   "cell_type": "code",
   "execution_count": 31,
   "metadata": {},
   "outputs": [
    {
     "data": {
      "text/plain": [
       "<matplotlib.axes._subplots.AxesSubplot at 0x255cf09bac0>"
      ]
     },
     "execution_count": 31,
     "metadata": {},
     "output_type": "execute_result"
    },
    {
     "data": {
      "image/png": "[encoded data removed]",
      "text/plain": [
       "<Figure size 1080x576 with 1 Axes>"
      ]
     },
     "metadata": {
      "needs_background": "light"
     },
     "output_type": "display_data"
    }
   ],
   "source": [
    "fig, ax = plt.subplots(figsize=(15,8))\n",
    "\n",
    "q5, q95 = data['Duration'].quantile([.01, .96])\n",
    "data['Duration'].clip(lower=q5, upper=q95).astype('timedelta64[h]').plot.hist(bins=50, ax=ax)"
   ]
  },
  {
   "cell_type": "markdown",
   "metadata": {},
   "source": [
    "## Концентрации радионуклидов"
   ]
  },
  {
   "cell_type": "code",
   "execution_count": 32,
   "metadata": {},
   "outputs": [
    {
     "data": {
      "text/html": [
       "<div>\n",
       "<style scoped>\n",
       "    .dataframe tbody tr th:only-of-type {\n",
       "        vertical-align: middle;\n",
       "    }\n",
       "\n",
       "    .dataframe tbody tr th {\n",
       "        vertical-align: top;\n",
       "    }\n",
       "\n",
       "    .dataframe thead th {\n",
       "        text-align: right;\n",
       "    }\n",
       "</style>\n",
       "<table border=\"1\" class=\"dataframe\">\n",
       "  <thead>\n",
       "    <tr style=\"text-align: right;\">\n",
       "      <th></th>\n",
       "      <th>I-131</th>\n",
       "      <th>Cs-134</th>\n",
       "      <th>Cs-137</th>\n",
       "    </tr>\n",
       "  </thead>\n",
       "  <tbody>\n",
       "    <tr>\n",
       "      <th>count</th>\n",
       "      <td>2009.000000</td>\n",
       "      <td>1801.000000</td>\n",
       "      <td>1506.000000</td>\n",
       "    </tr>\n",
       "    <tr>\n",
       "      <th>mean</th>\n",
       "      <td>1.748547</td>\n",
       "      <td>0.246130</td>\n",
       "      <td>0.480119</td>\n",
       "    </tr>\n",
       "    <tr>\n",
       "      <th>std</th>\n",
       "      <td>5.037676</td>\n",
       "      <td>0.752174</td>\n",
       "      <td>1.036107</td>\n",
       "    </tr>\n",
       "    <tr>\n",
       "      <th>min</th>\n",
       "      <td>0.000000</td>\n",
       "      <td>0.000000</td>\n",
       "      <td>0.000000</td>\n",
       "    </tr>\n",
       "    <tr>\n",
       "      <th>25%</th>\n",
       "      <td>0.003400</td>\n",
       "      <td>0.000000</td>\n",
       "      <td>0.001600</td>\n",
       "    </tr>\n",
       "    <tr>\n",
       "      <th>50%</th>\n",
       "      <td>0.060000</td>\n",
       "      <td>0.002035</td>\n",
       "      <td>0.020000</td>\n",
       "    </tr>\n",
       "    <tr>\n",
       "      <th>75%</th>\n",
       "      <td>1.140000</td>\n",
       "      <td>0.170000</td>\n",
       "      <td>0.479325</td>\n",
       "    </tr>\n",
       "    <tr>\n",
       "      <th>max</th>\n",
       "      <td>70.000000</td>\n",
       "      <td>14.000000</td>\n",
       "      <td>11.900000</td>\n",
       "    </tr>\n",
       "  </tbody>\n",
       "</table>\n",
       "</div>"
      ],
      "text/plain": [
       "             I-131       Cs-134       Cs-137\n",
       "count  2009.000000  1801.000000  1506.000000\n",
       "mean      1.748547     0.246130     0.480119\n",
       "std       5.037676     0.752174     1.036107\n",
       "min       0.000000     0.000000     0.000000\n",
       "25%       0.003400     0.000000     0.001600\n",
       "50%       0.060000     0.002035     0.020000\n",
       "75%       1.140000     0.170000     0.479325\n",
       "max      70.000000    14.000000    11.900000"
      ]
     },
     "execution_count": 32,
     "metadata": {},
     "output_type": "execute_result"
    }
   ],
   "source": [
    "data[['I-131', 'Cs-134', 'Cs-137']].describe()"
   ]
  },
  {
   "cell_type": "markdown",
   "metadata": {},
   "source": [
    "Динамика средней концентрации радионуклидов со временем:"
   ]
  },
  {
   "cell_type": "code",
   "execution_count": 33,
   "metadata": {},
   "outputs": [],
   "source": [
    "concentrations_df = data[['I-131', 'Cs-134', 'Cs-137']].copy()\n",
    "concentrations_df['Date'] = data['Date'].dt.date"
   ]
  },
  {
   "cell_type": "code",
   "execution_count": 34,
   "metadata": {},
   "outputs": [],
   "source": [
    "concentration_stats = concentrations_df.groupby('Date') \\\n",
    "    .agg(['mean', 'std']) \\\n",
    "    .sort_index() \\\n",
    "    .fillna(0.) \\\n",
    "    .iloc[:-2]"
   ]
  },
  {
   "cell_type": "code",
   "execution_count": 35,
   "metadata": {},
   "outputs": [
    {
     "data": {
      "image/png": "[encoded data removed]",
      "text/plain": [
       "<Figure size 2160x360 with 3 Axes>"
      ]
     },
     "metadata": {
      "needs_background": "light"
     },
     "output_type": "display_data"
    }
   ],
   "source": [
    "fig, ax = plt.subplots(nrows=1, ncols=3, figsize=(30,5))\n",
    "\n",
    "dates = concentration_stats.index\n",
    "\n",
    "mean = concentration_stats[('I-131', 'mean')]\n",
    "std = concentration_stats[('I-131', 'std')]\n",
    "ax[0].plot(dates, mean)\n",
    "ax[0].fill_between(dates, mean-std, mean+std, color='red', alpha=0.5)\n",
    "ax[0].tick_params(axis='x', rotation=60)\n",
    "\n",
    "mean = concentration_stats[('Cs-134', 'mean')]\n",
    "std = concentration_stats[('Cs-134', 'std')]\n",
    "ax[1].plot(dates, mean)\n",
    "ax[1].fill_between(dates, mean-std, mean+std, color='red', alpha=0.5)\n",
    "ax[1].tick_params(axis='x', rotation=60)\n",
    "\n",
    "mean = concentration_stats[('Cs-137', 'mean')]\n",
    "std = concentration_stats[('Cs-137', 'std')]\n",
    "ax[2].plot(dates, mean)\n",
    "ax[2].fill_between(dates, mean-std, mean+std, color='red', alpha=0.5)\n",
    "ax[2].tick_params(axis='x', rotation=60)"
   ]
  },
  {
   "cell_type": "markdown",
   "metadata": {},
   "source": [
    "Отклонения от средних достаточно значительны, из чего следует неравномерность распределения загрязнения"
   ]
  },
  {
   "cell_type": "markdown",
   "metadata": {},
   "source": [
    "## Кумулятивное загрязнение"
   ]
  },
  {
   "cell_type": "code",
   "execution_count": 36,
   "metadata": {},
   "outputs": [],
   "source": [
    "# TODO: доделать"
   ]
  },
  {
   "cell_type": "code",
   "execution_count": null,
   "metadata": {},
   "outputs": [],
   "source": []
  }
 ],
 "metadata": {
  "kernelspec": {
   "display_name": "Python 3",
   "language": "python",
   "name": "python3"
  },
  "language_info": {
   "codemirror_mode": {
    "name": "ipython",
    "version": 3
   },
   "file_extension": ".py",
   "mimetype": "text/x-python",
   "name": "python",
   "nbconvert_exporter": "python",
   "pygments_lexer": "ipython3",
   "version": "3.8.1"
  }
 },
 "nbformat": 4,
 "nbformat_minor": 4
}
